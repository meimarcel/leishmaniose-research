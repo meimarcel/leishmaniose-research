{
 "cells": [
  {
   "cell_type": "code",
   "execution_count": 1,
   "metadata": {},
   "outputs": [],
   "source": [
    "import cv2\n",
    "import os"
   ]
  },
  {
   "cell_type": "code",
   "execution_count": 2,
   "metadata": {},
   "outputs": [],
   "source": [
    "def applyCLAHE(path):\n",
    "    for folder in os.listdir(path):\n",
    "        full_path = os.path.join(path, folder)\n",
    "        for img in os.listdir(full_path):\n",
    "            img_transf = cv2.imread(os.path.join(full_path, img))\n",
    "            lab = cv2.cvtColor(img_transf, cv2.COLOR_BGR2LAB)\n",
    "            lab_planes = cv2.split(lab)\n",
    "            clahe = cv2.createCLAHE(clipLimit=2.0, tileGridSize=(8,8))\n",
    "            lab_planes[0] = clahe.apply(lab_planes[0])\n",
    "            lab = cv2.merge(lab_planes)\n",
    "            new_img = cv2.cvtColor(lab, cv2.COLOR_LAB2BGR)\n",
    "            cv2.imwrite(os.path.join(full_path, img), new_img)"
   ]
  },
  {
   "cell_type": "code",
   "execution_count": 3,
   "metadata": {},
   "outputs": [],
   "source": [
    "BASE_PATH = \"/home/meimarcel/Documentos/Facul/LAMBDA/Leishmaniose\"\n",
    "applyCLAHE(BASE_PATH+\"/Leishmania_Training_Dataset_CLAHE/treinamento\")\n",
    "applyCLAHE(BASE_PATH+\"/Leishmania_Training_Dataset_CLAHE/validacao\")\n",
    "applyCLAHE(BASE_PATH+\"/Leishmania_Test_Dataset_CLAHE\")"
   ]
  },
  {
   "cell_type": "code",
   "execution_count": null,
   "metadata": {},
   "outputs": [],
   "source": []
  }
 ],
 "metadata": {
  "kernelspec": {
   "display_name": "Python 3",
   "language": "python",
   "name": "python3"
  },
  "language_info": {
   "codemirror_mode": {
    "name": "ipython",
    "version": 3
   },
   "file_extension": ".py",
   "mimetype": "text/x-python",
   "name": "python",
   "nbconvert_exporter": "python",
   "pygments_lexer": "ipython3",
   "version": "3.7.9"
  }
 },
 "nbformat": 4,
 "nbformat_minor": 4
}
