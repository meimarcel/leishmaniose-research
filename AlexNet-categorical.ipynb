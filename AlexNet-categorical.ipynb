{
 "cells": [
  {
   "cell_type": "code",
   "execution_count": null,
   "metadata": {
    "scrolled": false
   },
   "outputs": [],
   "source": [
    "!pip install --upgrade keras tensorflow\n",
    "!pip install matplotlib\n",
    "!pip install gdown\n",
    "!pip3 install -U scikit-learn\n",
    "!pip install import_ipynb"
   ]
  },
  {
   "cell_type": "code",
   "execution_count": null,
   "metadata": {},
   "outputs": [],
   "source": [
    "#!gdown https://drive.google.com/uc?id=1xQqTSUA-celn_KRB9Qpx77g54KR0WHaH\n",
    "#!unzip Leishmania_Treinamento.zip\n",
    "#!rm Leishmania_Treinamento.zip"
   ]
  },
  {
   "cell_type": "code",
   "execution_count": null,
   "metadata": {},
   "outputs": [],
   "source": [
    "# Imports\n",
    "import tensorflow as tf\n",
    "import numpy as np\n",
    "import matplotlib.pyplot as plt\n",
    "import os\n",
    "import time\n",
    "import math\n",
    "import random as python_random\n",
    "import import_ipynb\n",
    "import AlexNetModel\n",
    "\n",
    "from tensorflow import keras\n",
    "from tensorflow.keras.preprocessing.image import ImageDataGenerator\n",
    "from tensorflow.keras.callbacks import TensorBoard\n",
    "from tensorflow.keras.optimizers import Adam\n",
    "from sklearn.metrics import classification_report, confusion_matrix"
   ]
  },
  {
   "cell_type": "code",
   "execution_count": null,
   "metadata": {},
   "outputs": [],
   "source": [
    "os.environ['TF_FORCE_GPU_ALLOW_GROWTH'] = 'true'\n",
    "np.random.seed(0)\n",
    "python_random.seed(0)\n",
    "tf.random.set_seed(0)"
   ]
  },
  {
   "cell_type": "code",
   "execution_count": null,
   "metadata": {},
   "outputs": [],
   "source": [
    "input_shape = (227, 227, 3)\n",
    "num_classes = 2\n",
    "epochs=20\n",
    "\n",
    "model_name = \"AlexNet-2\"\n",
    "train_dir = r'Leishmania_Training_Dataset/treinamento'\n",
    "test_dir = r'Leishmania_Training_Dataset/validacao'\n",
    "batch_size=10\n",
    "target_weight_height=(227,227)\n",
    "\n",
    "alexNetModel = AlexNetModel.AlexNet(input_shape=input_shape,num_classes=num_classes,weights=None)\n",
    "alexNet = alexNetModel.build()\n",
    "alexNet.compile(loss=['categorical_crossentropy'],\n",
    "                       optimizer=Adam(learning_rate = 0.00001),\n",
    "                       metrics=[\"accuracy\"])\n",
    "alexNet.summary()"
   ]
  },
  {
   "cell_type": "code",
   "execution_count": null,
   "metadata": {},
   "outputs": [],
   "source": [
    "folder_id = time.strftime(\"%Y_%m_%d-%H_%M_%S\")\n",
    "root_logdir = os.path.join(os.curdir, \"logs/info\"+folder_id)\n",
    "\n",
    "def get_run_logdir(folder_id):\n",
    "    run_id = \"run_\"+folder_id\n",
    "    return os.path.join(root_logdir, run_id)\n",
    "\n",
    "run_logdir = get_run_logdir(folder_id)\n",
    "tensorboard = TensorBoard(log_dir=run_logdir)"
   ]
  },
  {
   "cell_type": "code",
   "execution_count": null,
   "metadata": {},
   "outputs": [],
   "source": [
    "# No Augumentation\n",
    "datagen = ImageDataGenerator(rescale=1./255)\n",
    "\n",
    "train_generator = datagen.flow_from_directory(train_dir, \n",
    "                                                target_size=target_weight_height, \n",
    "                                                batch_size=batch_size, \n",
    "                                                class_mode='categorical')\n",
    "\n",
    "validation_generator = datagen.flow_from_directory(test_dir, \n",
    "                                              target_size=target_weight_height, \n",
    "                                              batch_size=batch_size, \n",
    "                                              class_mode='categorical')\n",
    "print(train_generator.class_indices)\n",
    "\n",
    "num_train_samples = train_generator.samples\n",
    "num_val_samples = validation_generator.samples\n",
    "\n",
    "alexNet.fit(train_generator,\n",
    "            epochs=epochs,\n",
    "            validation_data=validation_generator,\n",
    "            callbacks=[tensorboard])"
   ]
  },
  {
   "cell_type": "code",
   "execution_count": null,
   "metadata": {},
   "outputs": [],
   "source": [
    "%tensorboard --logdir $root_logdir"
   ]
  },
  {
   "cell_type": "code",
   "execution_count": null,
   "metadata": {},
   "outputs": [],
   "source": [
    "#!gdown https://drive.google.com/uc?id=1tTBldPLMQk8jLLDjBaxwbl_FXpYNS0Ux\n",
    "#!unzip Leishmania_Teste.zip\n",
    "#!rm Leishmania_Teste.zip"
   ]
  }
 ],
 "metadata": {
  "kernelspec": {
   "display_name": "Python 3",
   "language": "python",
   "name": "python3"
  },
  "language_info": {
   "codemirror_mode": {
    "name": "ipython",
    "version": 3
   },
   "file_extension": ".py",
   "mimetype": "text/x-python",
   "name": "python",
   "nbconvert_exporter": "python",
   "pygments_lexer": "ipython3",
   "version": "3.7.9"
  }
 },
 "nbformat": 4,
 "nbformat_minor": 4
}
