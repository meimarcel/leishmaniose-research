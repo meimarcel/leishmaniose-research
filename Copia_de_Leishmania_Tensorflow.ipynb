{
 "cells": [
  {
   "cell_type": "code",
   "execution_count": null,
   "metadata": {
    "colab": {},
    "colab_type": "code",
    "id": "dMS_Qjighoba"
   },
   "outputs": [],
   "source": [
    "# Atualização das bibliotecas\n",
    "!pip install --upgrade keras tensorflow"
   ]
  },
  {
   "cell_type": "code",
   "execution_count": null,
   "metadata": {
    "colab": {},
    "colab_type": "code",
    "id": "9e-JTYzAnj0D"
   },
   "outputs": [],
   "source": [
    "# Download do dataset de Treinamento\n",
    "!gdown https://drive.google.com/uc?id=1xQqTSUA-celn_KRB9Qpx77g54KR0WHaH\n",
    "!unzip Leishmania_Treinamento.zip\n",
    "!rm Leishmania_Treinamento.zip"
   ]
  },
  {
   "cell_type": "code",
   "execution_count": 1,
   "metadata": {
    "colab": {},
    "colab_type": "code",
    "id": "LnSSOFUrLB48"
   },
   "outputs": [],
   "source": [
    "# Fixando seeds pra ter resultados mais consistentes\n",
    "import numpy as np\n",
    "import tensorflow as tf\n",
    "import random as python_random\n",
    "\n",
    "np.random.seed(0)\n",
    "python_random.seed(0)\n",
    "tf.random.set_seed(0)"
   ]
  },
  {
   "cell_type": "code",
   "execution_count": 2,
   "metadata": {
    "colab": {},
    "colab_type": "code",
    "id": "V5ReLRW6ExE5"
   },
   "outputs": [],
   "source": [
    "# Imports\n",
    "from os import listdir\n",
    "from tensorflow.keras.optimizers import Adam\n",
    "from tensorflow.keras.models import Sequential\n",
    "from tensorflow.keras.layers import Dense, Flatten, Dropout\n",
    "from tensorflow.keras.applications import ResNet152V2\n",
    "from tensorflow.keras.preprocessing import image\n",
    "from tensorflow.keras.preprocessing.image import ImageDataGenerator\n",
    "from sklearn.metrics import classification_report, confusion_matrix\n",
    "import os"
   ]
  },
  {
   "cell_type": "code",
   "execution_count": 3,
   "metadata": {
    "colab": {
     "base_uri": "https://localhost:8080/",
     "height": 313
    },
    "colab_type": "code",
    "id": "bVjwzrQ9FffK",
    "outputId": "0a154356-3eea-4da5-a3fc-baff369e37bc"
   },
   "outputs": [
    {
     "name": "stdout",
     "output_type": "stream",
     "text": [
      "Found 400 images belonging to 2 classes.\n",
      "Found 100 images belonging to 2 classes.\n",
      "Epoch 1/10\n",
      "40/40 [==============================] - 19s 474ms/step - loss: 0.5683 - accuracy: 0.7200 - val_loss: 0.6131 - val_accuracy: 0.6600\n",
      "Epoch 2/10\n",
      "40/40 [==============================] - 16s 409ms/step - loss: 0.1048 - accuracy: 0.9700 - val_loss: 0.4567 - val_accuracy: 0.8000\n",
      "Epoch 3/10\n",
      "40/40 [==============================] - 17s 413ms/step - loss: 0.0565 - accuracy: 0.9850 - val_loss: 0.4281 - val_accuracy: 0.8200\n",
      "Epoch 4/10\n",
      "40/40 [==============================] - 16s 410ms/step - loss: 0.0262 - accuracy: 0.9975 - val_loss: 0.3454 - val_accuracy: 0.8700\n",
      "Epoch 5/10\n",
      "40/40 [==============================] - 17s 416ms/step - loss: 0.0286 - accuracy: 0.9975 - val_loss: 0.3206 - val_accuracy: 0.8700\n",
      "Epoch 6/10\n",
      "40/40 [==============================] - 16s 411ms/step - loss: 0.0170 - accuracy: 1.0000 - val_loss: 0.3235 - val_accuracy: 0.8800\n",
      "Epoch 7/10\n",
      "40/40 [==============================] - 16s 412ms/step - loss: 0.0152 - accuracy: 0.9975 - val_loss: 0.3241 - val_accuracy: 0.9100\n",
      "Epoch 8/10\n",
      "40/40 [==============================] - 16s 410ms/step - loss: 0.0087 - accuracy: 1.0000 - val_loss: 0.3034 - val_accuracy: 0.9200\n",
      "Epoch 9/10\n",
      "40/40 [==============================] - 16s 411ms/step - loss: 0.0061 - accuracy: 1.0000 - val_loss: 0.2600 - val_accuracy: 0.9300\n",
      "Epoch 10/10\n",
      "40/40 [==============================] - 16s 411ms/step - loss: 0.0081 - accuracy: 1.0000 - val_loss: 0.2768 - val_accuracy: 0.9300\n"
     ]
    },
    {
     "data": {
      "text/plain": [
       "<tensorflow.python.keras.callbacks.History at 0x7f43a46f0290>"
      ]
     },
     "execution_count": 3,
     "metadata": {},
     "output_type": "execute_result"
    }
   ],
   "source": [
    "os.environ['TF_FORCE_GPU_ALLOW_GROWTH'] = 'true'\n",
    "# Inicialização do modelo\n",
    "classificador = Sequential()\n",
    "\n",
    "tamanho_imagem = (256, 256)\n",
    "# Carregamento da arquitetura\n",
    "transfer = ResNet152V2(include_top = False, input_shape = (tamanho_imagem[0], \n",
    "                                                           tamanho_imagem[1], 3))\n",
    "for camada in transfer.layers:\n",
    "  camada.trainable = True\n",
    "\n",
    "classificador.add(transfer)\n",
    "\n",
    "# Saída do modelo\n",
    "classificador.add(Flatten())\n",
    "classificador.add(Dense(1, activation = 'sigmoid'))\n",
    "\n",
    "classificador.compile(optimizer = Adam(learning_rate = 0.00001),\n",
    "               loss = 'binary_crossentropy', metrics = ['accuracy'])\n",
    "\n",
    "batch = 10\n",
    "\n",
    "# Nenhuma forma de Augmentation\n",
    "# Rescale é apenas normalização\n",
    "datagen = ImageDataGenerator(rescale=1./255)\n",
    "\n",
    "\n",
    "grupo_treinamento = datagen.flow_from_directory('Leishmania_Training_Dataset/treinamento', \n",
    "                                                target_size=tamanho_imagem, \n",
    "                                                batch_size=batch, \n",
    "                                                class_mode='binary')\n",
    "\n",
    "grupo_validacao = datagen.flow_from_directory('Leishmania_Training_Dataset/validacao', \n",
    "                                              target_size=tamanho_imagem, \n",
    "                                              batch_size=batch, \n",
    "                                              class_mode='binary')\n",
    "\n",
    "classificador.fit(grupo_treinamento, epochs=10, validation_data=grupo_validacao)"
   ]
  },
  {
   "cell_type": "code",
   "execution_count": null,
   "metadata": {
    "colab": {},
    "colab_type": "code",
    "id": "-E89-JZOoAgK"
   },
   "outputs": [],
   "source": [
    "# Download do dataset de Teste\n",
    "!gdown https://drive.google.com/uc?id=1tTBldPLMQk8jLLDjBaxwbl_FXpYNS0Ux\n",
    "!unzip Leishmania_Teste.zip\n",
    "!rm Leishmania_Teste.zip"
   ]
  },
  {
   "cell_type": "code",
   "execution_count": 4,
   "metadata": {
    "colab": {},
    "colab_type": "code",
    "id": "eQ34F1Ht-P-U"
   },
   "outputs": [],
   "source": [
    "# Funções\n",
    "\n",
    "# Preprocessamento das imagens\n",
    "def carregar_imagem(arquivo):\n",
    "  img = image.load_img(arquivo, target_size=tamanho_imagem)\n",
    "  img = image.img_to_array(img)\n",
    "  img = np.expand_dims(img, axis = 0)\n",
    "  img = img/255\n",
    "\n",
    "  return img\n",
    "\n",
    "# Carregar imagens em uma lista\n",
    "def predicao_teste(pasta_teste):\n",
    "  imagens = []\n",
    "  for pasta in listdir(pasta_teste):\n",
    "    for arquivo in listdir(pasta_teste + '/' + pasta):\n",
    "      imagens.append(carregar_imagem(pasta_teste + pasta + '/' + arquivo))\n",
    "  \n",
    "  return imagens"
   ]
  },
  {
   "cell_type": "code",
   "execution_count": 5,
   "metadata": {
    "colab": {},
    "colab_type": "code",
    "id": "kO9JzCO0qxLQ"
   },
   "outputs": [
    {
     "name": "stdout",
     "output_type": "stream",
     "text": [
      "WARNING:tensorflow:From <ipython-input-5-64d680304b1c>:2: Sequential.predict_classes (from tensorflow.python.keras.engine.sequential) is deprecated and will be removed after 2021-01-01.\n",
      "Instructions for updating:\n",
      "Please use instead:* `np.argmax(model.predict(x), axis=-1)`,   if your model does multi-class classification   (e.g. if it uses a `softmax` last-layer activation).* `(model.predict(x) > 0.5).astype(\"int32\")`,   if your model does binary classification   (e.g. if it uses a `sigmoid` last-layer activation).\n"
     ]
    },
    {
     "ename": "FileNotFoundError",
     "evalue": "[Errno 2] No such file or directory: 'Leishmania_Test_Dateset/'",
     "output_type": "error",
     "traceback": [
      "\u001b[0;31m---------------------------------------------------------------------------\u001b[0m",
      "\u001b[0;31mFileNotFoundError\u001b[0m                         Traceback (most recent call last)",
      "\u001b[0;32m<ipython-input-5-64d680304b1c>\u001b[0m in \u001b[0;36m<module>\u001b[0;34m\u001b[0m\n\u001b[1;32m      4\u001b[0m                                               \u001b[0mtarget_size\u001b[0m\u001b[0;34m=\u001b[0m\u001b[0mtamanho_imagem\u001b[0m\u001b[0;34m,\u001b[0m\u001b[0;34m\u001b[0m\u001b[0;34m\u001b[0m\u001b[0m\n\u001b[1;32m      5\u001b[0m                                               \u001b[0mbatch_size\u001b[0m\u001b[0;34m=\u001b[0m\u001b[0mbatch\u001b[0m\u001b[0;34m,\u001b[0m\u001b[0;34m\u001b[0m\u001b[0;34m\u001b[0m\u001b[0m\n\u001b[0;32m----> 6\u001b[0;31m                                               class_mode='binary')\n\u001b[0m\u001b[1;32m      7\u001b[0m \u001b[0mprint\u001b[0m\u001b[0;34m(\u001b[0m\u001b[0;34m'Respostas do modelo\\n'\u001b[0m \u001b[0;34m+\u001b[0m \u001b[0mstr\u001b[0m\u001b[0;34m(\u001b[0m\u001b[0mnp\u001b[0m\u001b[0;34m.\u001b[0m\u001b[0mconcatenate\u001b[0m\u001b[0;34m(\u001b[0m\u001b[0mrespostas_modelo\u001b[0m\u001b[0;34m)\u001b[0m\u001b[0;34m)\u001b[0m\u001b[0;34m)\u001b[0m\u001b[0;34m\u001b[0m\u001b[0;34m\u001b[0m\u001b[0m\n\u001b[1;32m      8\u001b[0m \u001b[0mprint\u001b[0m\u001b[0;34m(\u001b[0m\u001b[0;34m'Respostas reais\\n'\u001b[0m \u001b[0;34m+\u001b[0m \u001b[0mstr\u001b[0m\u001b[0;34m(\u001b[0m\u001b[0mrespostas_teste\u001b[0m\u001b[0;34m.\u001b[0m\u001b[0mclasses\u001b[0m\u001b[0;34m)\u001b[0m\u001b[0;34m)\u001b[0m\u001b[0;34m\u001b[0m\u001b[0;34m\u001b[0m\u001b[0m\n",
      "\u001b[0;32m~/anaconda3/envs/leishmaniose/lib/python3.7/site-packages/tensorflow/python/keras/preprocessing/image.py\u001b[0m in \u001b[0;36mflow_from_directory\u001b[0;34m(self, directory, target_size, color_mode, classes, class_mode, batch_size, shuffle, seed, save_to_dir, save_prefix, save_format, follow_links, subset, interpolation)\u001b[0m\n\u001b[1;32m    957\u001b[0m         \u001b[0mfollow_links\u001b[0m\u001b[0;34m=\u001b[0m\u001b[0mfollow_links\u001b[0m\u001b[0;34m,\u001b[0m\u001b[0;34m\u001b[0m\u001b[0;34m\u001b[0m\u001b[0m\n\u001b[1;32m    958\u001b[0m         \u001b[0msubset\u001b[0m\u001b[0;34m=\u001b[0m\u001b[0msubset\u001b[0m\u001b[0;34m,\u001b[0m\u001b[0;34m\u001b[0m\u001b[0;34m\u001b[0m\u001b[0m\n\u001b[0;32m--> 959\u001b[0;31m         interpolation=interpolation)\n\u001b[0m\u001b[1;32m    960\u001b[0m \u001b[0;34m\u001b[0m\u001b[0m\n\u001b[1;32m    961\u001b[0m   def flow_from_dataframe(self,\n",
      "\u001b[0;32m~/anaconda3/envs/leishmaniose/lib/python3.7/site-packages/tensorflow/python/keras/preprocessing/image.py\u001b[0m in \u001b[0;36m__init__\u001b[0;34m(self, directory, image_data_generator, target_size, color_mode, classes, class_mode, batch_size, shuffle, seed, data_format, save_to_dir, save_prefix, save_format, follow_links, subset, interpolation, dtype)\u001b[0m\n\u001b[1;32m    395\u001b[0m         \u001b[0msubset\u001b[0m\u001b[0;34m=\u001b[0m\u001b[0msubset\u001b[0m\u001b[0;34m,\u001b[0m\u001b[0;34m\u001b[0m\u001b[0;34m\u001b[0m\u001b[0m\n\u001b[1;32m    396\u001b[0m         \u001b[0minterpolation\u001b[0m\u001b[0;34m=\u001b[0m\u001b[0minterpolation\u001b[0m\u001b[0;34m,\u001b[0m\u001b[0;34m\u001b[0m\u001b[0;34m\u001b[0m\u001b[0m\n\u001b[0;32m--> 397\u001b[0;31m         **kwargs)\n\u001b[0m\u001b[1;32m    398\u001b[0m \u001b[0;34m\u001b[0m\u001b[0m\n\u001b[1;32m    399\u001b[0m \u001b[0;34m\u001b[0m\u001b[0m\n",
      "\u001b[0;32m~/anaconda3/envs/leishmaniose/lib/python3.7/site-packages/keras_preprocessing/image/directory_iterator.py\u001b[0m in \u001b[0;36m__init__\u001b[0;34m(self, directory, image_data_generator, target_size, color_mode, classes, class_mode, batch_size, shuffle, seed, data_format, save_to_dir, save_prefix, save_format, follow_links, subset, interpolation, dtype)\u001b[0m\n\u001b[1;32m    113\u001b[0m         \u001b[0;32mif\u001b[0m \u001b[0;32mnot\u001b[0m \u001b[0mclasses\u001b[0m\u001b[0;34m:\u001b[0m\u001b[0;34m\u001b[0m\u001b[0;34m\u001b[0m\u001b[0m\n\u001b[1;32m    114\u001b[0m             \u001b[0mclasses\u001b[0m \u001b[0;34m=\u001b[0m \u001b[0;34m[\u001b[0m\u001b[0;34m]\u001b[0m\u001b[0;34m\u001b[0m\u001b[0;34m\u001b[0m\u001b[0m\n\u001b[0;32m--> 115\u001b[0;31m             \u001b[0;32mfor\u001b[0m \u001b[0msubdir\u001b[0m \u001b[0;32min\u001b[0m \u001b[0msorted\u001b[0m\u001b[0;34m(\u001b[0m\u001b[0mos\u001b[0m\u001b[0;34m.\u001b[0m\u001b[0mlistdir\u001b[0m\u001b[0;34m(\u001b[0m\u001b[0mdirectory\u001b[0m\u001b[0;34m)\u001b[0m\u001b[0;34m)\u001b[0m\u001b[0;34m:\u001b[0m\u001b[0;34m\u001b[0m\u001b[0;34m\u001b[0m\u001b[0m\n\u001b[0m\u001b[1;32m    116\u001b[0m                 \u001b[0;32mif\u001b[0m \u001b[0mos\u001b[0m\u001b[0;34m.\u001b[0m\u001b[0mpath\u001b[0m\u001b[0;34m.\u001b[0m\u001b[0misdir\u001b[0m\u001b[0;34m(\u001b[0m\u001b[0mos\u001b[0m\u001b[0;34m.\u001b[0m\u001b[0mpath\u001b[0m\u001b[0;34m.\u001b[0m\u001b[0mjoin\u001b[0m\u001b[0;34m(\u001b[0m\u001b[0mdirectory\u001b[0m\u001b[0;34m,\u001b[0m \u001b[0msubdir\u001b[0m\u001b[0;34m)\u001b[0m\u001b[0;34m)\u001b[0m\u001b[0;34m:\u001b[0m\u001b[0;34m\u001b[0m\u001b[0;34m\u001b[0m\u001b[0m\n\u001b[1;32m    117\u001b[0m                     \u001b[0mclasses\u001b[0m\u001b[0;34m.\u001b[0m\u001b[0mappend\u001b[0m\u001b[0;34m(\u001b[0m\u001b[0msubdir\u001b[0m\u001b[0;34m)\u001b[0m\u001b[0;34m\u001b[0m\u001b[0;34m\u001b[0m\u001b[0m\n",
      "\u001b[0;31mFileNotFoundError\u001b[0m: [Errno 2] No such file or directory: 'Leishmania_Test_Dateset/'"
     ]
    }
   ],
   "source": [
    "imagens = np.vstack(predicao_teste('Leishmania_Test_Dataset/'))\n",
    "respostas_modelo = classificador.predict_classes(imagens)\n",
    "respostas_teste = datagen.flow_from_directory('Leishmania_Test_Dateset/', \n",
    "                                              target_size=tamanho_imagem, \n",
    "                                              batch_size=batch, \n",
    "                                              class_mode='binary')\n",
    "print('Respostas do modelo\\n' + str(np.concatenate(respostas_modelo)))\n",
    "print('Respostas reais\\n' + str(respostas_teste.classes))\n",
    "\n",
    "# Matriz de confusão\n",
    "matriz_de_confusao = confusion_matrix(respostas_teste.classes, respostas_modelo)\n",
    "\n",
    "# Metricas\n",
    "# Marvin pediu especificamente pra gente avaliar os valores de sensibilidade e\n",
    "# especificidade\n",
    "TrueNegative, FalsePositive, FalseNegative, TruePositive = matriz_de_confusao.ravel()\n",
    "\n",
    "# Precisão\n",
    "print('Precisao ' + str((TruePositive + TrueNegative) / len(respostas_modelo)))\n",
    "\n",
    "# Sensibilidade\n",
    "print('Sensibilidade ' + str(TruePositive / (TruePositive + FalseNegative)))\n",
    "\n",
    "# Especificidade\n",
    "print('Especificidade ' + str(TrueNegative / (FalsePositive + TrueNegative)))"
   ]
  },
  {
   "cell_type": "code",
   "execution_count": null,
   "metadata": {
    "colab": {},
    "colab_type": "code",
    "id": "DCWq0JxBCwOj"
   },
   "outputs": [],
   "source": [
    "# Salvar modelo treinado em um arquivo\n",
    "classificador.save('modelo_leishmania.h5')"
   ]
  }
 ],
 "metadata": {
  "accelerator": "GPU",
  "colab": {
   "collapsed_sections": [],
   "name": "Cópia de Leishmania Tensorflow.ipynb",
   "provenance": []
  },
  "kernelspec": {
   "display_name": "Python 3",
   "language": "python",
   "name": "python3"
  },
  "language_info": {
   "codemirror_mode": {
    "name": "ipython",
    "version": 3
   },
   "file_extension": ".py",
   "mimetype": "text/x-python",
   "name": "python",
   "nbconvert_exporter": "python",
   "pygments_lexer": "ipython3",
   "version": "3.7.9"
  }
 },
 "nbformat": 4,
 "nbformat_minor": 1
}
