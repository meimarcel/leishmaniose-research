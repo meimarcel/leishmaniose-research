{
 "cells": [
  {
   "cell_type": "code",
   "execution_count": null,
   "metadata": {
    "scrolled": false
   },
   "outputs": [],
   "source": [
    "!pip install --upgrade keras tensorflow\n",
    "!pip install matplotlib\n",
    "!pip install gdown\n",
    "!pip3 install -U scikit-learn\n",
    "!pip install import_ipynb"
   ]
  },
  {
   "cell_type": "code",
   "execution_count": null,
   "metadata": {},
   "outputs": [],
   "source": [
    "!gdown https://drive.google.com/uc?id=1xQqTSUA-celn_KRB9Qpx77g54KR0WHaH\n",
    "!unzip Leishmania_Treinamento.zip\n",
    "!rm Leishmania_Treinamento.zip"
   ]
  },
  {
   "cell_type": "code",
   "execution_count": 8,
   "metadata": {},
   "outputs": [],
   "source": [
    "%load_ext tensorboard"
   ]
  },
  {
   "cell_type": "code",
   "execution_count": 1,
   "metadata": {},
   "outputs": [
    {
     "name": "stdout",
     "output_type": "stream",
     "text": [
      "importing Jupyter notebook from AlexNetModel.ipynb\n"
     ]
    }
   ],
   "source": [
    "# Imports\n",
    "import tensorflow as tf\n",
    "import numpy as np\n",
    "import matplotlib.pyplot as plt\n",
    "import os\n",
    "import time\n",
    "import math\n",
    "import random as python_random\n",
    "import import_ipynb\n",
    "import AlexNetModel\n",
    "\n",
    "from os import listdir\n",
    "from tensorflow import keras\n",
    "from tensorflow.keras.preprocessing import image\n",
    "from tensorflow.keras.preprocessing.image import ImageDataGenerator\n",
    "from tensorflow.keras.callbacks import TensorBoard\n",
    "from tensorflow.keras.optimizers import Adam\n",
    "from sklearn.metrics import classification_report, confusion_matrix"
   ]
  },
  {
   "cell_type": "code",
   "execution_count": 2,
   "metadata": {},
   "outputs": [],
   "source": [
    "os.environ['TF_FORCE_GPU_ALLOW_GROWTH'] = 'true'\n",
    "np.random.seed(0)\n",
    "python_random.seed(0)\n",
    "tf.random.set_seed(0)"
   ]
  },
  {
   "cell_type": "code",
   "execution_count": 13,
   "metadata": {},
   "outputs": [
    {
     "name": "stdout",
     "output_type": "stream",
     "text": [
      "Model: \"sequential_1\"\n",
      "_________________________________________________________________\n",
      "Layer (type)                 Output Shape              Param #   \n",
      "=================================================================\n",
      "Conv_1_96_11x11_4 (Conv2D)   (None, 55, 55, 96)        34944     \n",
      "_________________________________________________________________\n",
      "batch_normalization_2 (Batch (None, 55, 55, 96)        384       \n",
      "_________________________________________________________________\n",
      "maxpool_1_3x3_2 (MaxPooling2 (None, 27, 27, 96)        0         \n",
      "_________________________________________________________________\n",
      "Conv_2_256_5x5_1 (Conv2D)    (None, 27, 27, 256)       614656    \n",
      "_________________________________________________________________\n",
      "batch_normalization_3 (Batch (None, 27, 27, 256)       1024      \n",
      "_________________________________________________________________\n",
      "maxpool_2_3x3_2 (MaxPooling2 (None, 13, 13, 256)       0         \n",
      "_________________________________________________________________\n",
      "Conv_3_384_3x3_1 (Conv2D)    (None, 13, 13, 384)       885120    \n",
      "_________________________________________________________________\n",
      "Conv_4_384_3x3_1 (Conv2D)    (None, 13, 13, 384)       1327488   \n",
      "_________________________________________________________________\n",
      "Conv_5_256_3x3_1 (Conv2D)    (None, 13, 13, 256)       884992    \n",
      "_________________________________________________________________\n",
      "maxpool_3_3x3_2 (MaxPooling2 (None, 6, 6, 256)         0         \n",
      "_________________________________________________________________\n",
      "flatten_1 (Flatten)          (None, 9216)              0         \n",
      "_________________________________________________________________\n",
      "dense_3 (Dense)              (None, 4096)              37752832  \n",
      "_________________________________________________________________\n",
      "dropout_2 (Dropout)          (None, 4096)              0         \n",
      "_________________________________________________________________\n",
      "dense_4 (Dense)              (None, 4096)              16781312  \n",
      "_________________________________________________________________\n",
      "dropout_3 (Dropout)          (None, 4096)              0         \n",
      "_________________________________________________________________\n",
      "dense_5 (Dense)              (None, 1)                 4097      \n",
      "=================================================================\n",
      "Total params: 58,286,849\n",
      "Trainable params: 58,286,145\n",
      "Non-trainable params: 704\n",
      "_________________________________________________________________\n"
     ]
    }
   ],
   "source": [
    "input_shape = (227, 227, 3)\n",
    "num_classes = 1\n",
    "epochs=20\n",
    "batch_size=5\n",
    "\n",
    "model_name = \"AlexNet-227x227x3-c1-e\"+str(epochs)+\"-b\"+str(batch_size)+\"_CLAHE\"\n",
    "train_dir = r'Leishmania_Training_Dataset_CLAHE/treinamento'\n",
    "test_dir = r'Leishmania_Training_Dataset_CLAHE/validacao'\n",
    "\n",
    "target_weight_height=(227,227)\n",
    "\n",
    "alexNetModel = AlexNetModel.AlexNet(input_shape=input_shape,num_classes=num_classes,weights=None)\n",
    "alexNet = alexNetModel.build()\n",
    "alexNet.compile(loss=['binary_crossentropy'],\n",
    "                       optimizer=Adam(learning_rate = 0.00001),\n",
    "                       metrics=[\"accuracy\"])\n",
    "alexNet.summary()"
   ]
  },
  {
   "cell_type": "code",
   "execution_count": 14,
   "metadata": {},
   "outputs": [],
   "source": [
    "folder_id = time.strftime(\"%Y_%m_%d-%H_%M_%S\")+\"_CLAHE\"\n",
    "root_logdir = os.path.join(os.curdir, \"logs/info\"+folder_id)\n",
    "\n",
    "def get_run_logdir(folder_id):\n",
    "    run_id = \"run_\"+folder_id\n",
    "    return os.path.join(root_logdir, run_id)\n",
    "\n",
    "run_logdir = get_run_logdir(folder_id)\n",
    "tensorboard = TensorBoard(log_dir=run_logdir)"
   ]
  },
  {
   "cell_type": "code",
   "execution_count": 15,
   "metadata": {},
   "outputs": [
    {
     "name": "stdout",
     "output_type": "stream",
     "text": [
      "Found 400 images belonging to 2 classes.\n",
      "Found 100 images belonging to 2 classes.\n",
      "{'Negativo': 0, 'Positivo': 1}\n"
     ]
    }
   ],
   "source": [
    "# No Augumentation\n",
    "datagen = ImageDataGenerator(rescale=1./255)\n",
    "\n",
    "train_generator = datagen.flow_from_directory(train_dir, \n",
    "                                                target_size=target_weight_height, \n",
    "                                                batch_size=batch_size, \n",
    "                                                class_mode='binary')\n",
    "\n",
    "validation_generator = datagen.flow_from_directory(test_dir, \n",
    "                                              target_size=target_weight_height, \n",
    "                                              batch_size=batch_size, \n",
    "                                              class_mode='binary')\n",
    "print(train_generator.class_indices)\n"
   ]
  },
  {
   "cell_type": "code",
   "execution_count": 16,
   "metadata": {},
   "outputs": [
    {
     "name": "stdout",
     "output_type": "stream",
     "text": [
      "Epoch 1/20\n",
      " 2/80 [..............................] - ETA: 3s - loss: 1.9305 - accuracy: 0.4000WARNING:tensorflow:Callbacks method `on_train_batch_end` is slow compared to the batch time (batch time: 0.0072s vs `on_train_batch_end` time: 0.0699s). Check your callbacks.\n",
      "80/80 [==============================] - 10s 125ms/step - loss: 1.3076 - accuracy: 0.5900 - val_loss: 0.7077 - val_accuracy: 0.5000\n",
      "Epoch 2/20\n",
      "80/80 [==============================] - 9s 116ms/step - loss: 0.9672 - accuracy: 0.6550 - val_loss: 0.5866 - val_accuracy: 0.5600\n",
      "Epoch 3/20\n",
      "80/80 [==============================] - 9s 116ms/step - loss: 0.8928 - accuracy: 0.7100 - val_loss: 0.6123 - val_accuracy: 0.5700\n",
      "Epoch 4/20\n",
      "80/80 [==============================] - 9s 116ms/step - loss: 0.6477 - accuracy: 0.7650 - val_loss: 0.3705 - val_accuracy: 0.8900\n",
      "Epoch 5/20\n",
      "80/80 [==============================] - 9s 116ms/step - loss: 0.4482 - accuracy: 0.8250 - val_loss: 0.3166 - val_accuracy: 0.8900\n",
      "Epoch 6/20\n",
      "80/80 [==============================] - 9s 115ms/step - loss: 0.3773 - accuracy: 0.8575 - val_loss: 0.1960 - val_accuracy: 0.9600\n",
      "Epoch 7/20\n",
      "80/80 [==============================] - 9s 116ms/step - loss: 0.4588 - accuracy: 0.8275 - val_loss: 0.1568 - val_accuracy: 0.9800\n",
      "Epoch 8/20\n",
      "80/80 [==============================] - 9s 114ms/step - loss: 0.3521 - accuracy: 0.8550 - val_loss: 0.8942 - val_accuracy: 0.5800\n",
      "Epoch 9/20\n",
      "80/80 [==============================] - 9s 116ms/step - loss: 0.3193 - accuracy: 0.9000 - val_loss: 0.0880 - val_accuracy: 0.9800\n",
      "Epoch 10/20\n",
      "80/80 [==============================] - 9s 115ms/step - loss: 0.2304 - accuracy: 0.9075 - val_loss: 0.0850 - val_accuracy: 0.9800\n",
      "Epoch 11/20\n",
      "80/80 [==============================] - 9s 116ms/step - loss: 0.2288 - accuracy: 0.9200 - val_loss: 0.0926 - val_accuracy: 0.9800\n",
      "Epoch 12/20\n",
      "80/80 [==============================] - 9s 116ms/step - loss: 0.1434 - accuracy: 0.9375 - val_loss: 0.0934 - val_accuracy: 0.9800\n",
      "Epoch 13/20\n",
      "80/80 [==============================] - 9s 116ms/step - loss: 0.1334 - accuracy: 0.9550 - val_loss: 0.1207 - val_accuracy: 0.9600\n",
      "Epoch 14/20\n",
      "80/80 [==============================] - 9s 115ms/step - loss: 0.0920 - accuracy: 0.9725 - val_loss: 0.1858 - val_accuracy: 0.9300\n",
      "Epoch 15/20\n",
      "80/80 [==============================] - 9s 116ms/step - loss: 0.0864 - accuracy: 0.9675 - val_loss: 0.0778 - val_accuracy: 0.9700\n",
      "Epoch 16/20\n",
      "80/80 [==============================] - 9s 116ms/step - loss: 0.0673 - accuracy: 0.9775 - val_loss: 0.0541 - val_accuracy: 0.9800\n",
      "Epoch 17/20\n",
      "80/80 [==============================] - 9s 116ms/step - loss: 0.0377 - accuracy: 0.9975 - val_loss: 0.0670 - val_accuracy: 0.9800\n",
      "Epoch 18/20\n",
      "80/80 [==============================] - 9s 116ms/step - loss: 0.0320 - accuracy: 0.9950 - val_loss: 0.1539 - val_accuracy: 0.9500\n",
      "Epoch 19/20\n",
      "80/80 [==============================] - 9s 116ms/step - loss: 0.0419 - accuracy: 0.9825 - val_loss: 0.0559 - val_accuracy: 0.9800\n",
      "Epoch 20/20\n",
      "80/80 [==============================] - 9s 116ms/step - loss: 0.0297 - accuracy: 0.9900 - val_loss: 0.0877 - val_accuracy: 0.9700\n"
     ]
    },
    {
     "data": {
      "text/plain": [
       "<tensorflow.python.keras.callbacks.History at 0x7f82e0bc1a10>"
      ]
     },
     "execution_count": 16,
     "metadata": {},
     "output_type": "execute_result"
    }
   ],
   "source": [
    "num_train_samples = train_generator.samples\n",
    "num_val_samples = validation_generator.samples\n",
    "\n",
    "alexNet.fit(train_generator,\n",
    "            epochs=epochs,\n",
    "            validation_data=validation_generator,\n",
    "            callbacks=[tensorboard])"
   ]
  },
  {
   "cell_type": "code",
   "execution_count": 17,
   "metadata": {},
   "outputs": [
    {
     "data": {
      "text/html": [
       "\n",
       "      <iframe id=\"tensorboard-frame-3a05c0b73ddf55b2\" width=\"100%\" height=\"800\" frameborder=\"0\">\n",
       "      </iframe>\n",
       "      <script>\n",
       "        (function() {\n",
       "          const frame = document.getElementById(\"tensorboard-frame-3a05c0b73ddf55b2\");\n",
       "          const url = new URL(\"/\", window.location);\n",
       "          const port = 6007;\n",
       "          if (port) {\n",
       "            url.port = port;\n",
       "          }\n",
       "          frame.src = url;\n",
       "        })();\n",
       "      </script>\n",
       "    "
      ],
      "text/plain": [
       "<IPython.core.display.HTML object>"
      ]
     },
     "metadata": {},
     "output_type": "display_data"
    }
   ],
   "source": [
    "%tensorboard --logdir $root_logdir"
   ]
  },
  {
   "cell_type": "code",
   "execution_count": null,
   "metadata": {},
   "outputs": [],
   "source": [
    "!gdown https://drive.google.com/uc?id=1tTBldPLMQk8jLLDjBaxwbl_FXpYNS0Ux\n",
    "!unzip Leishmania_Teste.zip\n",
    "!rm Leishmania_Teste.zip"
   ]
  },
  {
   "cell_type": "code",
   "execution_count": 18,
   "metadata": {},
   "outputs": [],
   "source": [
    "# Preprocessamento das imagens\n",
    "def carregar_imagem(arquivo, image_size):\n",
    "  img = image.load_img(arquivo, target_size=image_size)\n",
    "  img = image.img_to_array(img)\n",
    "  img = np.expand_dims(img, axis = 0)\n",
    "  img = img/255\n",
    "\n",
    "  return img\n",
    "\n",
    "# Carregar imagens em uma lista\n",
    "def predicao_teste(pasta_teste, image_size):\n",
    "  imagens = []\n",
    "  for pasta in listdir(pasta_teste):\n",
    "    for arquivo in listdir(pasta_teste + '/' + pasta):\n",
    "      imagens.append(carregar_imagem(pasta_teste + pasta + '/' + arquivo, image_size))\n",
    "  \n",
    "  return imagens"
   ]
  },
  {
   "cell_type": "code",
   "execution_count": 22,
   "metadata": {},
   "outputs": [
    {
     "name": "stdout",
     "output_type": "stream",
     "text": [
      "Found 44 images belonging to 2 classes.\n",
      "Respostas do modelo\n",
      "[0 0 0 1 0 0 1 1 0 0 0 0 0 0 0 0 0 0 0 0 1 0 1 1 1 1 1 1 1 1 0 1 1 0 1 0 1\n",
      " 0 1 0 0 0 0 1]\n",
      "Respostas reais\n",
      "[0 0 0 0 0 0 0 0 0 0 0 0 0 0 0 0 0 0 0 0 0 0 1 1 1 1 1 1 1 1 1 1 1 1 1 1 1\n",
      " 1 1 1 1 1 1 1]\n",
      "Precisao 0.7272727272727273\n",
      "Sensibilidade 0.6363636363636364\n",
      "Especificidade 0.8181818181818182\n"
     ]
    }
   ],
   "source": [
    "imagens = np.vstack(predicao_teste('Leishmania_Test_Dataset/', target_weight_height))\n",
    "respostas_modelo = alexNet.predict_classes(imagens)\n",
    "respostas_teste = datagen.flow_from_directory('Leishmania_Test_Dataset/', \n",
    "                                              target_size=target_weight_height, \n",
    "                                              batch_size=batch_size, \n",
    "                                              class_mode='binary')\n",
    "print('Respostas do modelo\\n' + str(np.concatenate(respostas_modelo)))\n",
    "print('Respostas reais\\n' + str(respostas_teste.classes))\n",
    "\n",
    "# Matriz de confusão\n",
    "matriz_de_confusao = confusion_matrix(respostas_teste.classes, respostas_modelo)\n",
    "\n",
    "# Metricas\n",
    "# Marvin pediu especificamente pra gente avaliar os valores de sensibilidade e\n",
    "# especificidade\n",
    "TrueNegative, FalsePositive, FalseNegative, TruePositive = matriz_de_confusao.ravel()\n",
    "\n",
    "# Precisão\n",
    "print('Precisao ' + str((TruePositive + TrueNegative) / len(respostas_modelo)))\n",
    "\n",
    "# Sensibilidade\n",
    "print('Sensibilidade ' + str(TruePositive / (TruePositive + FalseNegative)))\n",
    "\n",
    "# Especificidade\n",
    "print('Especificidade ' + str(TrueNegative / (FalsePositive + TrueNegative)))"
   ]
  },
  {
   "cell_type": "code",
   "execution_count": 21,
   "metadata": {},
   "outputs": [],
   "source": [
    "alexNet.save(f\"{model_name}.h5\")"
   ]
  },
  {
   "cell_type": "code",
   "execution_count": null,
   "metadata": {},
   "outputs": [],
   "source": []
  }
 ],
 "metadata": {
  "kernelspec": {
   "display_name": "Python 3",
   "language": "python",
   "name": "python3"
  },
  "language_info": {
   "codemirror_mode": {
    "name": "ipython",
    "version": 3
   },
   "file_extension": ".py",
   "mimetype": "text/x-python",
   "name": "python",
   "nbconvert_exporter": "python",
   "pygments_lexer": "ipython3",
   "version": "3.7.9"
  }
 },
 "nbformat": 4,
 "nbformat_minor": 4
}
