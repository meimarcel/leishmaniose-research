{
 "cells": [
  {
   "cell_type": "code",
   "execution_count": null,
   "metadata": {
    "scrolled": false
   },
   "outputs": [],
   "source": [
    "!pip install --upgrade keras tensorflow\n",
    "!pip install matplotlib\n",
    "!pip install gdown\n",
    "!pip3 install -U scikit-learn\n",
    "!pip install import_ipynb"
   ]
  },
  {
   "cell_type": "code",
   "execution_count": null,
   "metadata": {},
   "outputs": [],
   "source": [
    "!gdown https://drive.google.com/uc?id=1xQqTSUA-celn_KRB9Qpx77g54KR0WHaH\n",
    "!unzip Leishmania_Treinamento.zip\n",
    "!rm Leishmania_Treinamento.zip"
   ]
  },
  {
   "cell_type": "code",
   "execution_count": null,
   "metadata": {},
   "outputs": [],
   "source": [
    "%load_ext tensorboard"
   ]
  },
  {
   "cell_type": "code",
   "execution_count": 1,
   "metadata": {},
   "outputs": [
    {
     "name": "stdout",
     "output_type": "stream",
     "text": [
      "importing Jupyter notebook from AlexNetModel.ipynb\n"
     ]
    }
   ],
   "source": [
    "# Imports\n",
    "import tensorflow as tf\n",
    "import numpy as np\n",
    "import matplotlib.pyplot as plt\n",
    "import os\n",
    "import time\n",
    "import math\n",
    "import random as python_random\n",
    "import import_ipynb\n",
    "import AlexNetModel\n",
    "\n",
    "from os import listdir\n",
    "from tensorflow import keras\n",
    "from tensorflow.keras.preprocessing import image\n",
    "from tensorflow.keras.preprocessing.image import ImageDataGenerator\n",
    "from tensorflow.keras.callbacks import TensorBoard\n",
    "from tensorflow.keras.optimizers import Adam\n",
    "from sklearn.metrics import classification_report, confusion_matrix"
   ]
  },
  {
   "cell_type": "code",
   "execution_count": 2,
   "metadata": {},
   "outputs": [],
   "source": [
    "os.environ['TF_FORCE_GPU_ALLOW_GROWTH'] = 'true'\n",
    "np.random.seed(0)\n",
    "python_random.seed(0)\n",
    "tf.random.set_seed(0)"
   ]
  },
  {
   "cell_type": "code",
   "execution_count": 3,
   "metadata": {},
   "outputs": [
    {
     "name": "stdout",
     "output_type": "stream",
     "text": [
      "Model: \"sequential\"\n",
      "_________________________________________________________________\n",
      "Layer (type)                 Output Shape              Param #   \n",
      "=================================================================\n",
      "Conv_1_96_11x11_4 (Conv2D)   (None, 55, 55, 96)        34944     \n",
      "_________________________________________________________________\n",
      "batch_normalization (BatchNo (None, 55, 55, 96)        384       \n",
      "_________________________________________________________________\n",
      "maxpool_1_3x3_2 (MaxPooling2 (None, 27, 27, 96)        0         \n",
      "_________________________________________________________________\n",
      "Conv_2_256_5x5_1 (Conv2D)    (None, 27, 27, 256)       614656    \n",
      "_________________________________________________________________\n",
      "batch_normalization_1 (Batch (None, 27, 27, 256)       1024      \n",
      "_________________________________________________________________\n",
      "maxpool_2_3x3_2 (MaxPooling2 (None, 13, 13, 256)       0         \n",
      "_________________________________________________________________\n",
      "Conv_3_384_3x3_1 (Conv2D)    (None, 13, 13, 384)       885120    \n",
      "_________________________________________________________________\n",
      "Conv_4_384_3x3_1 (Conv2D)    (None, 13, 13, 384)       1327488   \n",
      "_________________________________________________________________\n",
      "Conv_5_256_3x3_1 (Conv2D)    (None, 13, 13, 256)       884992    \n",
      "_________________________________________________________________\n",
      "maxpool_3_3x3_2 (MaxPooling2 (None, 6, 6, 256)         0         \n",
      "_________________________________________________________________\n",
      "flatten (Flatten)            (None, 9216)              0         \n",
      "_________________________________________________________________\n",
      "dense (Dense)                (None, 4096)              37752832  \n",
      "_________________________________________________________________\n",
      "dropout (Dropout)            (None, 4096)              0         \n",
      "_________________________________________________________________\n",
      "dense_1 (Dense)              (None, 4096)              16781312  \n",
      "_________________________________________________________________\n",
      "dropout_1 (Dropout)          (None, 4096)              0         \n",
      "_________________________________________________________________\n",
      "dense_2 (Dense)              (None, 1)                 4097      \n",
      "=================================================================\n",
      "Total params: 58,286,849\n",
      "Trainable params: 58,286,145\n",
      "Non-trainable params: 704\n",
      "_________________________________________________________________\n"
     ]
    }
   ],
   "source": [
    "input_shape = (227, 227, 3)\n",
    "num_classes = 1\n",
    "epochs=10\n",
    "batch_size=10\n",
    "\n",
    "model_name = \"AlexNet-227x227x3-c1-e\"+str(epochs)+\"-b\"+str(batch_size)\n",
    "train_dir = r'Leishmania_Training_Dataset_CLAHE/treinamento'\n",
    "test_dir = r'Leishmania_Training_Dataset_CLAHE/validacao'\n",
    "\n",
    "target_weight_height=(227,227)\n",
    "\n",
    "alexNetModel = AlexNetModel.AlexNet(input_shape=input_shape,num_classes=num_classes,weights=None)\n",
    "alexNet = alexNetModel.build()\n",
    "alexNet.compile(loss=['binary_crossentropy'],\n",
    "                       optimizer=Adam(learning_rate = 0.00001),\n",
    "                       metrics=[\"accuracy\"])\n",
    "alexNet.summary()"
   ]
  },
  {
   "cell_type": "code",
   "execution_count": 4,
   "metadata": {},
   "outputs": [],
   "source": [
    "folder_id = time.strftime(\"%Y_%m_%d-%H_%M_%S\")+\"_CLAHE\"\n",
    "root_logdir = os.path.join(os.curdir, \"logs/info\"+folder_id)\n",
    "\n",
    "def get_run_logdir(folder_id):\n",
    "    run_id = \"run_\"+folder_id\n",
    "    return os.path.join(root_logdir, run_id)\n",
    "\n",
    "run_logdir = get_run_logdir(folder_id)\n",
    "tensorboard = TensorBoard(log_dir=run_logdir)"
   ]
  },
  {
   "cell_type": "code",
   "execution_count": 5,
   "metadata": {},
   "outputs": [
    {
     "name": "stdout",
     "output_type": "stream",
     "text": [
      "Found 400 images belonging to 2 classes.\n",
      "Found 100 images belonging to 2 classes.\n",
      "{'Negativo': 0, 'Positivo': 1}\n"
     ]
    }
   ],
   "source": [
    "# No Augumentation\n",
    "datagen = ImageDataGenerator(rescale=1./255)\n",
    "\n",
    "train_generator = datagen.flow_from_directory(train_dir, \n",
    "                                                target_size=target_weight_height, \n",
    "                                                batch_size=batch_size, \n",
    "                                                class_mode='binary')\n",
    "\n",
    "validation_generator = datagen.flow_from_directory(test_dir, \n",
    "                                              target_size=target_weight_height, \n",
    "                                              batch_size=batch_size, \n",
    "                                              class_mode='binary')\n",
    "print(train_generator.class_indices)\n"
   ]
  },
  {
   "cell_type": "code",
   "execution_count": 6,
   "metadata": {},
   "outputs": [
    {
     "name": "stdout",
     "output_type": "stream",
     "text": [
      "Epoch 1/10\n",
      " 1/40 [..............................] - ETA: 0s - loss: 1.1486 - accuracy: 0.6000WARNING:tensorflow:From /home/meimarcel/anaconda3/envs/leishmaniose/lib/python3.7/site-packages/tensorflow/python/ops/summary_ops_v2.py:1277: stop (from tensorflow.python.eager.profiler) is deprecated and will be removed after 2020-07-01.\n",
      "Instructions for updating:\n",
      "use `tf.profiler.experimental.stop` instead.\n",
      "WARNING:tensorflow:Callbacks method `on_train_batch_end` is slow compared to the batch time (batch time: 0.0104s vs `on_train_batch_end` time: 0.0345s). Check your callbacks.\n",
      "40/40 [==============================] - 9s 236ms/step - loss: 1.2578 - accuracy: 0.6200 - val_loss: 0.6560 - val_accuracy: 0.5000\n",
      "Epoch 2/10\n",
      "40/40 [==============================] - 9s 217ms/step - loss: 0.8121 - accuracy: 0.7325 - val_loss: 0.6308 - val_accuracy: 0.5000\n",
      "Epoch 3/10\n",
      "40/40 [==============================] - 9s 221ms/step - loss: 0.7207 - accuracy: 0.8000 - val_loss: 0.8820 - val_accuracy: 0.5000\n",
      "Epoch 4/10\n",
      "40/40 [==============================] - 9s 219ms/step - loss: 0.5154 - accuracy: 0.8175 - val_loss: 0.9352 - val_accuracy: 0.5000\n",
      "Epoch 5/10\n",
      "40/40 [==============================] - 9s 221ms/step - loss: 0.5832 - accuracy: 0.8450 - val_loss: 0.8308 - val_accuracy: 0.5000\n",
      "Epoch 6/10\n",
      "40/40 [==============================] - 9s 222ms/step - loss: 0.3989 - accuracy: 0.8500 - val_loss: 0.7487 - val_accuracy: 0.5000\n",
      "Epoch 7/10\n",
      "40/40 [==============================] - 9s 224ms/step - loss: 0.3829 - accuracy: 0.8425 - val_loss: 0.7111 - val_accuracy: 0.5000\n",
      "Epoch 8/10\n",
      "40/40 [==============================] - 9s 214ms/step - loss: 0.2733 - accuracy: 0.8875 - val_loss: 0.5126 - val_accuracy: 0.6200\n",
      "Epoch 9/10\n",
      "40/40 [==============================] - 9s 222ms/step - loss: 0.2898 - accuracy: 0.8800 - val_loss: 0.3433 - val_accuracy: 0.8100\n",
      "Epoch 10/10\n",
      "40/40 [==============================] - 9s 222ms/step - loss: 0.2164 - accuracy: 0.9125 - val_loss: 0.2198 - val_accuracy: 0.9500\n"
     ]
    },
    {
     "data": {
      "text/plain": [
       "<tensorflow.python.keras.callbacks.History at 0x7f3de825f990>"
      ]
     },
     "execution_count": 6,
     "metadata": {},
     "output_type": "execute_result"
    }
   ],
   "source": [
    "num_train_samples = train_generator.samples\n",
    "num_val_samples = validation_generator.samples\n",
    "\n",
    "alexNet.fit(train_generator,\n",
    "            epochs=epochs,\n",
    "            validation_data=validation_generator,\n",
    "            callbacks=[tensorboard])"
   ]
  },
  {
   "cell_type": "code",
   "execution_count": null,
   "metadata": {},
   "outputs": [],
   "source": [
    "%tensorboard --logdir $root_logdir"
   ]
  },
  {
   "cell_type": "code",
   "execution_count": null,
   "metadata": {},
   "outputs": [],
   "source": [
    "!gdown https://drive.google.com/uc?id=1tTBldPLMQk8jLLDjBaxwbl_FXpYNS0Ux\n",
    "!unzip Leishmania_Teste.zip\n",
    "!rm Leishmania_Teste.zip"
   ]
  },
  {
   "cell_type": "code",
   "execution_count": 7,
   "metadata": {},
   "outputs": [],
   "source": [
    "# Preprocessamento das imagens\n",
    "def carregar_imagem(arquivo, image_size):\n",
    "  img = image.load_img(arquivo, target_size=image_size)\n",
    "  img = image.img_to_array(img)\n",
    "  img = np.expand_dims(img, axis = 0)\n",
    "  img = img/255\n",
    "\n",
    "  return img\n",
    "\n",
    "# Carregar imagens em uma lista\n",
    "def predicao_teste(pasta_teste, image_size):\n",
    "  imagens = []\n",
    "  for pasta in listdir(pasta_teste):\n",
    "    for arquivo in listdir(pasta_teste + '/' + pasta):\n",
    "      imagens.append(carregar_imagem(pasta_teste + pasta + '/' + arquivo, image_size))\n",
    "  \n",
    "  return imagens"
   ]
  },
  {
   "cell_type": "code",
   "execution_count": 8,
   "metadata": {},
   "outputs": [
    {
     "name": "stdout",
     "output_type": "stream",
     "text": [
      "WARNING:tensorflow:From <ipython-input-8-1c785a5d94ae>:2: Sequential.predict_classes (from tensorflow.python.keras.engine.sequential) is deprecated and will be removed after 2021-01-01.\n",
      "Instructions for updating:\n",
      "Please use instead:* `np.argmax(model.predict(x), axis=-1)`,   if your model does multi-class classification   (e.g. if it uses a `softmax` last-layer activation).* `(model.predict(x) > 0.5).astype(\"int32\")`,   if your model does binary classification   (e.g. if it uses a `sigmoid` last-layer activation).\n",
      "Found 44 images belonging to 2 classes.\n",
      "Respostas do modelo\n",
      "[0 0 0 0 0 0 0 1 1 0 0 0 0 0 0 0 0 0 0 0 0 0 1 1 1 1 1 1 1 0 0 1 1 0 1 1 1\n",
      " 0 1 1 0 1 0 1]\n",
      "Respostas reais\n",
      "[0 0 0 0 0 0 0 0 0 0 0 0 0 0 0 0 0 0 0 0 0 0 1 1 1 1 1 1 1 1 1 1 1 1 1 1 1\n",
      " 1 1 1 1 1 1 1]\n",
      "Precisao 0.8181818181818182\n",
      "Sensibilidade 0.7272727272727273\n",
      "Especificidade 0.9090909090909091\n"
     ]
    }
   ],
   "source": [
    "imagens = np.vstack(predicao_teste('Leishmania_Test_Dataset/', target_weight_height))\n",
    "respostas_modelo = alexNet.predict_classes(imagens)\n",
    "respostas_teste = datagen.flow_from_directory('Leishmania_Test_Dataset/', \n",
    "                                              target_size=target_weight_height, \n",
    "                                              batch_size=batch_size, \n",
    "                                              class_mode='binary')\n",
    "print('Respostas do modelo\\n' + str(np.concatenate(respostas_modelo)))\n",
    "print('Respostas reais\\n' + str(respostas_teste.classes))\n",
    "\n",
    "# Matriz de confusão\n",
    "matriz_de_confusao = confusion_matrix(respostas_teste.classes, respostas_modelo)\n",
    "\n",
    "# Metricas\n",
    "# Marvin pediu especificamente pra gente avaliar os valores de sensibilidade e\n",
    "# especificidade\n",
    "TrueNegative, FalsePositive, FalseNegative, TruePositive = matriz_de_confusao.ravel()\n",
    "\n",
    "# Precisão\n",
    "print('Precisao ' + str((TruePositive + TrueNegative) / len(respostas_modelo)))\n",
    "\n",
    "# Sensibilidade\n",
    "print('Sensibilidade ' + str(TruePositive / (TruePositive + FalseNegative)))\n",
    "\n",
    "# Especificidade\n",
    "print('Especificidade ' + str(TrueNegative / (FalsePositive + TrueNegative)))"
   ]
  },
  {
   "cell_type": "code",
   "execution_count": 9,
   "metadata": {},
   "outputs": [],
   "source": [
    "alexNet.save(f\"{model_name}.h5\")"
   ]
  },
  {
   "cell_type": "code",
   "execution_count": null,
   "metadata": {},
   "outputs": [],
   "source": []
  }
 ],
 "metadata": {
  "kernelspec": {
   "display_name": "Python 3",
   "language": "python",
   "name": "python3"
  },
  "language_info": {
   "codemirror_mode": {
    "name": "ipython",
    "version": 3
   },
   "file_extension": ".py",
   "mimetype": "text/x-python",
   "name": "python",
   "nbconvert_exporter": "python",
   "pygments_lexer": "ipython3",
   "version": "3.7.9"
  }
 },
 "nbformat": 4,
 "nbformat_minor": 4
}
